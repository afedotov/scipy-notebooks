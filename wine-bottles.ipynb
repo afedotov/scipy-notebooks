{
 "cells": [
  {
   "cell_type": "markdown",
   "id": "764f8eee-e9ba-4aea-8224-745e7288108a",
   "metadata": {},
   "source": [
    "### Задача про отравленную бутылку вина\n",
    "\n",
    "Вечеринка начинается через сутки.\n",
    "Всего для вечеринки есть $N$ бутылок вина, но одна из них отравлена.  \n",
    "Есть $m$ лабораторных мышей, каждую из которых можно напоить из любого количества бутылок, но яд действует только через сутки.  \n",
    "Какое максимальное количество $R$ гарантированно неотравленных бутылок можно будет взять на вечеринку через сутки?\n"
   ]
  },
  {
   "cell_type": "code",
   "execution_count": 1,
   "id": "813f6e3c-c7c9-409e-bee4-d0827db1eb92",
   "metadata": {},
   "outputs": [],
   "source": [
    "import numpy as np\n",
    "from sympy import *\n",
    "from IPython.display import Math\n",
    "import matplotlib.pyplot as plt"
   ]
  },
  {
   "cell_type": "code",
   "execution_count": 2,
   "id": "7ec3d376-8076-4cf2-bbe2-91bece09b9ac",
   "metadata": {},
   "outputs": [],
   "source": [
    "N = 30\n",
    "m = 4"
   ]
  },
  {
   "cell_type": "markdown",
   "id": "780c3594-a3d5-4402-9da9-d6ac8ababe0a",
   "metadata": {},
   "source": [
    "Разделим $N$ бутылок на $G$ по возможности равных групп по $B$ бутылок в каждой.  \n",
    "При этом желательно использовать максимально возможное количество групп $G_{max}$ при заданном числе мышей $m$ равное:\n",
    "> $G_{max} = 2^m-1$\n",
    "\n",
    "В каждой группе будет $B$ бутылок:\n",
    "\n",
    "> $\\displaystyle{B = \\bigg\\lfloor \\frac{N}{G_{max}} + \\frac{1}{2} \\bigg\\rfloor}$\n",
    "\n",
    "Всего групп:\n",
    "\n",
    "> $\\displaystyle{G = \\bigg\\lfloor \\frac{N}{B} + \\frac{1}{2} \\bigg\\rfloor}$\n"
   ]
  },
  {
   "cell_type": "code",
   "execution_count": 3,
   "id": "c0aacccf-77fb-4608-9772-c023189af070",
   "metadata": {},
   "outputs": [
    {
     "data": {
      "text/latex": [
       "$\\displaystyle G_{max} = 15$"
      ],
      "text/plain": [
       "<IPython.core.display.Math object>"
      ]
     },
     "metadata": {},
     "output_type": "display_data"
    },
    {
     "data": {
      "text/latex": [
       "$\\displaystyle B = 2$"
      ],
      "text/plain": [
       "<IPython.core.display.Math object>"
      ]
     },
     "metadata": {},
     "output_type": "display_data"
    },
    {
     "data": {
      "text/latex": [
       "$\\displaystyle G = 15$"
      ],
      "text/plain": [
       "<IPython.core.display.Math object>"
      ]
     },
     "metadata": {},
     "output_type": "display_data"
    }
   ],
   "source": [
    "Gmax = 2**m - 1\n",
    "B = np.floor((N / Gmax) + 1/2).astype('I')\n",
    "G = np.floor((N / B) + 1/2).astype('I')\n",
    "\n",
    "display(Math(\"G_{max} = %d\" % Gmax))\n",
    "display(Math(\"B = %d\" % B))\n",
    "display(Math(\"G = %d\" % G))"
   ]
  },
  {
   "cell_type": "markdown",
   "id": "a68c489f-f44c-4ce1-b162-0663e25ad7f5",
   "metadata": {
    "tags": []
   },
   "source": [
    "---\n",
    "#### Алгоритм решения\n",
    "Создадим матрицу соответствия мышей и групп бутылок - $A\\colon ~ m \\times G \\to \\mathbb{F_2}$  \n",
    "Строки матрицы соответствуют мышам: $M_{i} = \\{ M_1, M_2, ... , M_m \\}$  \n",
    "Столбцы матрицы соответствуют группам бутылок: $BG_{j} = \\{ BG_1, BG_2, ... , BG_G \\}$\n",
    "\n",
    "Если в двоичном представлении номера группы $j$ в бите $i$ стоит 1, то в соответствующую ячейку матрицы $A(i,j)$ мы записываем 1, в противном случае 0.\n"
   ]
  },
  {
   "cell_type": "code",
   "execution_count": 4,
   "id": "ebea4eaa-ef36-42f6-9bd6-8ae45ecbcf07",
   "metadata": {},
   "outputs": [],
   "source": [
    "A = np.fromfunction(lambda i,j: (j + 1) >> i & 1, (m, G), dtype='B')"
   ]
  },
  {
   "cell_type": "code",
   "execution_count": 5,
   "id": "db255432-71e3-4b30-b0e8-bc83e01ac3ad",
   "metadata": {},
   "outputs": [
    {
     "data": {
      "image/png": "[encoded data removed]",
      "text/plain": [
       "<Figure size 2250x450 with 1 Axes>"
      ]
     },
     "metadata": {
      "needs_background": "light"
     },
     "output_type": "display_data"
    }
   ],
   "source": [
    "fig = plt.figure(figsize=(15,3), dpi=150)\n",
    "ax = fig.add_subplot()\n",
    "\n",
    "ax.xaxis.set_ticks_position('top')\n",
    "ax.xaxis.set_ticks(np.arange(G))\n",
    "ax.xaxis.set_major_formatter(lambda x,pos: \"$BG_{%d}$\" % (x + 1))\n",
    "\n",
    "ax.yaxis.set_ticks(np.arange(m))\n",
    "ax.yaxis.set_major_formatter(lambda x,pos: \"$M_{%d}$\" % (x + 1))\n",
    "\n",
    "ax.tick_params(labelsize='xx-small')\n",
    "\n",
    "img = ax.imshow(A, cmap='binary')"
   ]
  },
  {
   "cell_type": "markdown",
   "id": "a6be9f09-df81-4fa7-aca9-2ce7b574c537",
   "metadata": {},
   "source": [
    "В соответствии с полученной матрицей каждая мышь $M_i$ пробует вино из тех групп бутылок, напротив которых в матрице стоит 1.  \n",
    "\n",
    "То есть:\n",
    "- $M_1$ пробует из $\\{BG_1, BG_3, BG_5, BG_7, ... \\}$  \n",
    "- $M_2$ пробует из $\\{BG_2, BG_3, BG_6, BG_7, ... \\}$  \n",
    "- $M_3$ пробует из $\\{BG_4, BG_5, BG_6, BG_7, ... \\}$  \n",
    "- ...\n",
    "\n",
    "По истечении суток по одной из $G$ возможных комбинаций дохлых мышей определяем группу в которой находится отравленная бутылка.\n",
    "Число оставшихся неотравленных бутылок равно:\n",
    "\n",
    "> $R = N - B$\n"
   ]
  },
  {
   "cell_type": "code",
   "execution_count": 6,
   "id": "3f5f1ec1-81e1-4d4a-bfd0-923f2b87831b",
   "metadata": {},
   "outputs": [
    {
     "data": {
      "text/latex": [
       "$\\displaystyle R = 28$"
      ],
      "text/plain": [
       "<IPython.core.display.Math object>"
      ]
     },
     "metadata": {},
     "output_type": "display_data"
    }
   ],
   "source": [
    "R = N - B\n",
    "\n",
    "display(Math(\"R = %d\" % R))"
   ]
  }
 ],
 "metadata": {
  "kernelspec": {
   "display_name": "Python 3 (ipykernel)",
   "language": "python",
   "name": "python3"
  },
  "language_info": {
   "codemirror_mode": {
    "name": "ipython",
    "version": 3
   },
   "file_extension": ".py",
   "mimetype": "text/x-python",
   "name": "python",
   "nbconvert_exporter": "python",
   "pygments_lexer": "ipython3",
   "version": "3.9.7"
  }
 },
 "nbformat": 4,
 "nbformat_minor": 5
}
