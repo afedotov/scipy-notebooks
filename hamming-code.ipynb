{
 "cells": [
  {
   "cell_type": "markdown",
   "id": "5a488ce3-bcf8-43af-93ca-fc9f5ba171b5",
   "metadata": {
    "tags": []
   },
   "source": [
    "## Код Хэмминга (n,k)\n",
    "\n",
    "- $n$ - число бит в кодовой последовательности\n",
    "- $k$ - число информационных бит\n",
    "- $r = n - k$ - число контрольных бит\n"
   ]
  },
  {
   "cell_type": "code",
   "execution_count": 1,
   "id": "9e4e8542",
   "metadata": {},
   "outputs": [],
   "source": [
    "import numpy as np\n",
    "from sympy import *\n",
    "from functools import reduce\n",
    "from IPython.display import Math"
   ]
  },
  {
   "cell_type": "markdown",
   "id": "f0ca945b-a16f-4fcd-8119-82f16bdb2237",
   "metadata": {},
   "source": [
    "### Пример для (7,4)"
   ]
  },
  {
   "cell_type": "code",
   "execution_count": 2,
   "id": "1b8610ed-14ab-44e9-a834-d36744dd831b",
   "metadata": {},
   "outputs": [],
   "source": [
    "n,k = (7,4)\n",
    "r = n - k"
   ]
  },
  {
   "cell_type": "markdown",
   "id": "6f158c3e-c794-4cce-a363-c4ce6535ff82",
   "metadata": {
    "tags": []
   },
   "source": [
    "Контрольные биты четности $p_{1..r}$ вычисляются из битов данных $d_{1..k}$ следующим образом:\n",
    "\n",
    "> $p_1 = d_1 \\oplus d_2 \\oplus d_4$  \n",
    "> $p_2 = d_1 \\oplus d_3 \\oplus d_4$  \n",
    "> $p_3 = d_2 \\oplus d_3 \\oplus d_4$  \n",
    "\n",
    "Вектор кодовой последовательности $\\langle d_1, d_2, d_3, d_4, p_1, p_2, p_3 \\rangle$ можно получить умножением вектора исходных данных $\\langle d_1, d_2, d_3, d_4 \\rangle$ на матрицу-генератор $G$, где $P$ - матрица перестановки, соответствующая вышеупомянутым комбинациям информационных битов для вычисления битов четности:\n",
    "\n",
    "> $G = \\begin{bmatrix}I_{k} ~\\vdots~ P\\end{bmatrix}$\n",
    "\n",
    "Для проверки наличия ошибок в кодовой последовательности вычисляется вектор синдромов $\\vec{S} = \\langle S_1, S_2, S_3 \\rangle$, такой что:\n",
    " \n",
    "> $S_1 = p_1 \\oplus d_1 \\oplus d_2 \\oplus d_4$  \n",
    "> $S_2 = p_2 \\oplus d_1 \\oplus d_3 \\oplus d_4$  \n",
    "> $S_3 = p_3 \\oplus d_2 \\oplus d_3 \\oplus d_4$  \n",
    "\n",
    "Если вектор синдромов равен нулевому вектору $\\langle 0, 0, 0 \\rangle$, то кодовая последовательность не содержит ошибок. Вектор синдромов можно получить умножением вектора кодовой последовательности на матрицу контроля четности:\n",
    "\n",
    "> $H = \\begin{bmatrix}P \\\\ \\cdots \\\\ I_{r}\\end{bmatrix}$\n",
    " "
   ]
  },
  {
   "cell_type": "markdown",
   "id": "23b9754f-6988-4b51-b07f-c33b580793f4",
   "metadata": {},
   "source": [
    "---\n",
    "#### Матрица-генератор:"
   ]
  },
  {
   "cell_type": "code",
   "execution_count": 3,
   "id": "e8d7288f-5cdd-4412-b323-71d1c8d39a91",
   "metadata": {},
   "outputs": [
    {
     "data": {
      "text/latex": [
       "$\\displaystyle G = \\left[\\begin{matrix}1 & 0 & 0 & 0 & 1 & 1 & 0\\\\0 & 1 & 0 & 0 & 1 & 0 & 1\\\\0 & 0 & 1 & 0 & 0 & 1 & 1\\\\0 & 0 & 0 & 1 & 1 & 1 & 1\\end{matrix}\\right]$"
      ],
      "text/plain": [
       "<IPython.core.display.Math object>"
      ]
     },
     "metadata": {},
     "output_type": "display_data"
    }
   ],
   "source": [
    "Ik = np.eye(k, dtype='B')\n",
    "P = np.array([[1,1,0],[1,0,1],[0,1,1],[1,1,1]], dtype='B')\n",
    "\n",
    "G = np.hstack((Ik, P))\n",
    "\n",
    "display(Math('G = ' + latex(Matrix(G))))"
   ]
  },
  {
   "cell_type": "markdown",
   "id": "4759913b-42d5-4d43-a6c0-07a6375d918e",
   "metadata": {},
   "source": [
    "#### Матрица контроля чётности:"
   ]
  },
  {
   "cell_type": "code",
   "execution_count": 4,
   "id": "970a133f-c5d7-4a2b-8734-a29adb51cc24",
   "metadata": {},
   "outputs": [
    {
     "data": {
      "text/latex": [
       "$\\displaystyle H = \\left[\\begin{matrix}1 & 1 & 0\\\\1 & 0 & 1\\\\0 & 1 & 1\\\\1 & 1 & 1\\\\1 & 0 & 0\\\\0 & 1 & 0\\\\0 & 0 & 1\\end{matrix}\\right]$"
      ],
      "text/plain": [
       "<IPython.core.display.Math object>"
      ]
     },
     "metadata": {},
     "output_type": "display_data"
    }
   ],
   "source": [
    "Ir = np.eye(r, dtype='B')\n",
    "H = np.vstack((P, Ir))\n",
    "\n",
    "display(Math('H = ' + latex(Matrix(H))))"
   ]
  },
  {
   "cell_type": "markdown",
   "id": "92cba0cb-58dd-44ab-be97-3dbe29bbad49",
   "metadata": {},
   "source": [
    "#### Произвольный вектор с информационными битами: $\\vec{D}$"
   ]
  },
  {
   "cell_type": "code",
   "execution_count": 5,
   "id": "f9a00f38-2cb6-48dc-af48-2831c5714f10",
   "metadata": {},
   "outputs": [
    {
     "data": {
      "text/latex": [
       "$\\displaystyle \\vec{D} = \\left[\\begin{matrix}0 & 1 & 1 & 0\\end{matrix}\\right]$"
      ],
      "text/plain": [
       "<IPython.core.display.Math object>"
      ]
     },
     "metadata": {},
     "output_type": "display_data"
    }
   ],
   "source": [
    "D = np.random.randint(0, 2, (1, k), dtype='B')\n",
    "\n",
    "display(Math('\\\\vec{D} = ' + latex(Matrix(D))))"
   ]
  },
  {
   "cell_type": "markdown",
   "id": "7093828f-ae10-4256-b560-b5e426e71b22",
   "metadata": {},
   "source": [
    "#### Вычисление кодовой последовательности: $\\vec{C} = \\vec{D} \\times G$"
   ]
  },
  {
   "cell_type": "code",
   "execution_count": 6,
   "id": "167aab66-c848-4850-93bd-3adf600f4990",
   "metadata": {},
   "outputs": [
    {
     "data": {
      "text/latex": [
       "$\\displaystyle \\vec{C} = \\left[\\begin{matrix}0 & 1 & 1 & 0 & 1 & 1 & 0\\end{matrix}\\right]$"
      ],
      "text/plain": [
       "<IPython.core.display.Math object>"
      ]
     },
     "metadata": {},
     "output_type": "display_data"
    }
   ],
   "source": [
    "C = np.dot(D, G) % 2\n",
    "\n",
    "display(Math('\\\\vec{C} = ' + latex(Matrix(C))))"
   ]
  },
  {
   "cell_type": "markdown",
   "id": "e954e404-1ffb-47a6-9e28-67968bcddfc1",
   "metadata": {},
   "source": [
    "#### Проверка кодовой последовательности, вычисление вектора синдромов: $\\vec{S} = \\vec{C} \\times H$"
   ]
  },
  {
   "cell_type": "code",
   "execution_count": 7,
   "id": "b80d5c13-ef60-49e6-8013-60240c39632e",
   "metadata": {},
   "outputs": [
    {
     "data": {
      "text/latex": [
       "$\\displaystyle \\vec{S} = \\left[\\begin{matrix}0 & 0 & 0\\end{matrix}\\right]$"
      ],
      "text/plain": [
       "<IPython.core.display.Math object>"
      ]
     },
     "metadata": {},
     "output_type": "display_data"
    }
   ],
   "source": [
    "S = np.dot(C, H) % 2\n",
    "\n",
    "display(Math('\\\\vec{S} = ' + latex(Matrix(S))))"
   ]
  },
  {
   "cell_type": "markdown",
   "id": "f8fa1406-49c6-47d0-97ce-30e9e46afdc0",
   "metadata": {
    "tags": []
   },
   "source": [
    "---\n",
    "#### Исправление ошибок в кодовой последовательности\n",
    "\n",
    "Для обнаружения и исправления единичной ошибки в кодовой последовательности удобно распологать в ней биты в таком порядке, чтобы контрольные биты $p_{1..r}$ находились на позициях кратных степени двойки: $2^{x}, \\{ x \\in \\mathbb{N}, 0 \\leq x \\lt r \\}$.\n",
    "В этом случае полученный при декодировании вектор синдромов $\\langle S_1, S_2, S_3 \\rangle$ будет являться двоичным представлением индекса ошибочного символа в кодовой последовательности.\n",
    "\n",
    "Переставим столбцы в матрице-генераторе и строки в матрице контроля четности таким образом, чтобы результирующий вектор кодовой последовательности содержал биты в упомянутом порядке:\n",
    "\n",
    "> $\\langle d_1, d_2, d_3, d_4, p_1, p_2, p_3 \\rangle \\mapsto \\langle p_1, p_2, d_1, p_3, d_2, d_3, d_4 \\rangle$"
   ]
  },
  {
   "cell_type": "code",
   "execution_count": 8,
   "id": "afdca6ae-68e7-4a1f-a666-c357186ccb76",
   "metadata": {},
   "outputs": [
    {
     "data": {
      "text/latex": [
       "$\\displaystyle Gp = \\left[\\begin{matrix}1 & 1 & 1 & 0 & 0 & 0 & 0\\\\1 & 0 & 0 & 1 & 1 & 0 & 0\\\\0 & 1 & 0 & 1 & 0 & 1 & 0\\\\1 & 1 & 0 & 1 & 0 & 0 & 1\\end{matrix}\\right]; ~~~ Hp = \\left[\\begin{matrix}1 & 0 & 0\\\\0 & 1 & 0\\\\1 & 1 & 0\\\\0 & 0 & 1\\\\1 & 0 & 1\\\\0 & 1 & 1\\\\1 & 1 & 1\\end{matrix}\\right]$"
      ],
      "text/plain": [
       "<IPython.core.display.Math object>"
      ]
     },
     "metadata": {},
     "output_type": "display_data"
    }
   ],
   "source": [
    "Gp = G[:,(4,5,0,6,1,2,3)]\n",
    "Hp = H[(4,5,0,6,1,2,3),:]\n",
    "\n",
    "display(Math('Gp = ' + latex(Matrix(Gp)) +'; ~~~ Hp = ' + latex(Matrix(Hp))))"
   ]
  },
  {
   "cell_type": "markdown",
   "id": "fa95a0e0-931d-4d63-aa45-2e450bb46858",
   "metadata": {},
   "source": [
    "Вычислим кодовую последовательность и синдром используя обновленные матрицы:"
   ]
  },
  {
   "cell_type": "code",
   "execution_count": 9,
   "id": "d1966e00-2de8-473d-9f34-20ee3e227a42",
   "metadata": {},
   "outputs": [
    {
     "data": {
      "text/latex": [
       "$\\displaystyle \\vec{Cp} = \\left[\\begin{matrix}1 & 1 & 0 & 0 & 1 & 1 & 0\\end{matrix}\\right]$"
      ],
      "text/plain": [
       "<IPython.core.display.Math object>"
      ]
     },
     "metadata": {},
     "output_type": "display_data"
    },
    {
     "data": {
      "text/latex": [
       "$\\displaystyle \\vec{Sp} = \\left[\\begin{matrix}0 & 0 & 0\\end{matrix}\\right]$"
      ],
      "text/plain": [
       "<IPython.core.display.Math object>"
      ]
     },
     "metadata": {},
     "output_type": "display_data"
    }
   ],
   "source": [
    "Cp = np.dot(D, Gp) % 2\n",
    "Sp = np.dot(Cp, Hp) % 2\n",
    "display(Math('\\\\vec{Cp} = ' + latex(Matrix(Cp))))\n",
    "display(Math('\\\\vec{Sp} = ' + latex(Matrix(Sp))))"
   ]
  },
  {
   "cell_type": "markdown",
   "id": "6d3ccc7b-a0a5-4938-9641-67cf934a65b2",
   "metadata": {},
   "source": [
    "Тест: Имитация единичной ошибки в кодовой последовательности и вычисление индекса ошибочного символа:"
   ]
  },
  {
   "cell_type": "code",
   "execution_count": 10,
   "id": "e0798140-db85-4a49-b8cf-b3b199aeed51",
   "metadata": {},
   "outputs": [
    {
     "data": {
      "text/latex": [
       "$\\displaystyle \\vec{Sp} = \\left[\\begin{matrix}1 & 0 & 0\\end{matrix}\\right] \\implies \\text{ошибка в символе}~\\vec{Cp_{1}}$"
      ],
      "text/plain": [
       "<IPython.core.display.Math object>"
      ]
     },
     "metadata": {},
     "output_type": "display_data"
    },
    {
     "data": {
      "text/latex": [
       "$\\displaystyle \\vec{Sp} = \\left[\\begin{matrix}0 & 1 & 0\\end{matrix}\\right] \\implies \\text{ошибка в символе}~\\vec{Cp_{2}}$"
      ],
      "text/plain": [
       "<IPython.core.display.Math object>"
      ]
     },
     "metadata": {},
     "output_type": "display_data"
    },
    {
     "data": {
      "text/latex": [
       "$\\displaystyle \\vec{Sp} = \\left[\\begin{matrix}1 & 1 & 0\\end{matrix}\\right] \\implies \\text{ошибка в символе}~\\vec{Cp_{3}}$"
      ],
      "text/plain": [
       "<IPython.core.display.Math object>"
      ]
     },
     "metadata": {},
     "output_type": "display_data"
    },
    {
     "data": {
      "text/latex": [
       "$\\displaystyle \\vec{Sp} = \\left[\\begin{matrix}0 & 0 & 1\\end{matrix}\\right] \\implies \\text{ошибка в символе}~\\vec{Cp_{4}}$"
      ],
      "text/plain": [
       "<IPython.core.display.Math object>"
      ]
     },
     "metadata": {},
     "output_type": "display_data"
    },
    {
     "data": {
      "text/latex": [
       "$\\displaystyle \\vec{Sp} = \\left[\\begin{matrix}1 & 0 & 1\\end{matrix}\\right] \\implies \\text{ошибка в символе}~\\vec{Cp_{5}}$"
      ],
      "text/plain": [
       "<IPython.core.display.Math object>"
      ]
     },
     "metadata": {},
     "output_type": "display_data"
    },
    {
     "data": {
      "text/latex": [
       "$\\displaystyle \\vec{Sp} = \\left[\\begin{matrix}0 & 1 & 1\\end{matrix}\\right] \\implies \\text{ошибка в символе}~\\vec{Cp_{6}}$"
      ],
      "text/plain": [
       "<IPython.core.display.Math object>"
      ]
     },
     "metadata": {},
     "output_type": "display_data"
    },
    {
     "data": {
      "text/latex": [
       "$\\displaystyle \\vec{Sp} = \\left[\\begin{matrix}1 & 1 & 1\\end{matrix}\\right] \\implies \\text{ошибка в символе}~\\vec{Cp_{7}}$"
      ],
      "text/plain": [
       "<IPython.core.display.Math object>"
      ]
     },
     "metadata": {},
     "output_type": "display_data"
    }
   ],
   "source": [
    "for i in range(7):\n",
    "    Cp[0,i] ^= 1\n",
    "    Sp = np.dot(Cp, Hp) % 2\n",
    "    Cp[0,i] ^= 1\n",
    "    err = np.packbits(Sp, bitorder='little')\n",
    "    display(Math(\"\\\\vec{Sp} = \" + latex(Matrix(Sp)) + \" \\\\implies \\\\text{ошибка в символе}~\\\\vec{Cp_{%d}}\" % err))"
   ]
  }
 ],
 "metadata": {
  "kernelspec": {
   "display_name": "Python 3 (ipykernel)",
   "language": "python",
   "name": "python3"
  },
  "language_info": {
   "codemirror_mode": {
    "name": "ipython",
    "version": 3
   },
   "file_extension": ".py",
   "mimetype": "text/x-python",
   "name": "python",
   "nbconvert_exporter": "python",
   "pygments_lexer": "ipython3",
   "version": "3.9.7"
  }
 },
 "nbformat": 4,
 "nbformat_minor": 5
}
